{
 "cells": [
  {
   "cell_type": "code",
   "execution_count": 2,
   "metadata": {},
   "outputs": [],
   "source": [
    "import os\n",
    "import numpy as np\n",
    "from PIL import Image\n",
    "import keras\n",
    "from keras.datasets import mnist\n",
    "from keras.models import Sequential\n",
    "from keras.layers import Dense, Dropout, Flatten\n",
    "from keras.layers import Conv2D, MaxPooling2D\n",
    "from keras import backend as K\n",
    "\n",
    "dataset = []\n",
    "labels = []\n",
    "\n",
    "LEXICON = \"0123456789abcdefghijklmnopqrstuvwxyz\"\n",
    "batch_size = 64\n",
    "epochs = 20\n",
    "img_rows, img_cols = 28, 28\n",
    "num_classes = len(LEXICON)\n",
    "input_shape = (img_rows, img_cols, 1)\n",
    "\n",
    "for filename in os.listdir(\"secondary_dataset\"):\n",
    "    if filename.endswith(\".jpg\"):\n",
    "        img_path = os.path.join(\"secondary_dataset\", filename)\n",
    "        im = Image.open(img_path).convert('L')\n",
    "        dataset.append(np.asarray(im, dtype=np.float32))\n",
    "        label = filename.replace(\".jpg\", \"\").split(\"-\")[0]\n",
    "        labels.append(LEXICON.index(label))"
   ]
  },
  {
   "cell_type": "code",
   "execution_count": 3,
   "metadata": {},
   "outputs": [
    {
     "data": {
      "image/png": "[encoded data removed]",
      "text/plain": [
       "<PIL.Image.Image image mode=L size=28x28 at 0x13C724110>"
      ]
     },
     "metadata": {},
     "output_type": "display_data"
    },
    {
     "data": {
      "text/plain": [
       "13"
      ]
     },
     "metadata": {},
     "output_type": "display_data"
    }
   ],
   "source": [
    "display(Image.fromarray(np.array(dataset[1], dtype=np.uint8)))\n",
    "display(labels[1])"
   ]
  },
  {
   "cell_type": "code",
   "execution_count": 4,
   "metadata": {},
   "outputs": [],
   "source": [
    "how_many_training_samples = 278\n",
    "\n",
    "x_train = np.array(dataset[:how_many_training_samples])\n",
    "y_train = labels[:how_many_training_samples]\n",
    "\n",
    "x_test = np.array(dataset[how_many_training_samples:])\n",
    "y_test = labels[how_many_training_samples:]\n",
    "\n",
    "x_train = x_train.reshape(x_train.shape[0], img_rows, img_cols, 1)\n",
    "x_test = x_test.reshape(x_test.shape[0], img_rows, img_cols, 1)"
   ]
  },
  {
   "cell_type": "code",
   "execution_count": 5,
   "metadata": {},
   "outputs": [
    {
     "name": "stdout",
     "output_type": "stream",
     "text": [
      "x_train shape: (278, 28, 28, 1)\n",
      "278 train samples\n",
      "250 test samples\n"
     ]
    }
   ],
   "source": [
    "x_train = x_train.astype('float32')\n",
    "x_test = x_test.astype('float32')\n",
    "x_train /= 255\n",
    "x_test /= 255\n",
    "\n",
    "print('x_train shape:', x_train.shape)\n",
    "print(x_train.shape[0], 'train samples')\n",
    "print(x_test.shape[0], 'test samples')"
   ]
  },
  {
   "cell_type": "code",
   "execution_count": 6,
   "metadata": {},
   "outputs": [],
   "source": [
    "y_train = keras.utils.to_categorical(y_train, num_classes)\n",
    "y_test = keras.utils.to_categorical(y_test, num_classes)"
   ]
  },
  {
   "cell_type": "code",
   "execution_count": 7,
   "metadata": {},
   "outputs": [],
   "source": [
    "model = Sequential()\n",
    "model.add(Conv2D(32, kernel_size=(3, 3),\n",
    "                 activation='relu',\n",
    "                 input_shape=input_shape))\n",
    "model.add(Conv2D(64, (3, 3), activation='relu'))\n",
    "model.add(MaxPooling2D(pool_size=(2, 2)))\n",
    "model.add(Dropout(0.25))\n",
    "model.add(Flatten())\n",
    "model.add(Dense(128, activation='relu'))\n",
    "model.add(Dropout(0.5))\n",
    "model.add(Dense(num_classes, activation='softmax'))\n"
   ]
  },
  {
   "cell_type": "code",
   "execution_count": 8,
   "metadata": {},
   "outputs": [],
   "source": [
    "model.compile(loss=keras.losses.categorical_crossentropy,\n",
    "              optimizer=keras.optimizers.Adadelta(),\n",
    "              metrics=['accuracy'])"
   ]
  },
  {
   "cell_type": "code",
   "execution_count": 9,
   "metadata": {},
   "outputs": [
    {
     "name": "stdout",
     "output_type": "stream",
     "text": [
      "Model: \"sequential_1\"\n",
      "_________________________________________________________________\n",
      "Layer (type)                 Output Shape              Param #   \n",
      "=================================================================\n",
      "conv2d_1 (Conv2D)            (None, 26, 26, 32)        320       \n",
      "_________________________________________________________________\n",
      "conv2d_2 (Conv2D)            (None, 24, 24, 64)        18496     \n",
      "_________________________________________________________________\n",
      "max_pooling2d_1 (MaxPooling2 (None, 12, 12, 64)        0         \n",
      "_________________________________________________________________\n",
      "dropout_1 (Dropout)          (None, 12, 12, 64)        0         \n",
      "_________________________________________________________________\n",
      "flatten_1 (Flatten)          (None, 9216)              0         \n",
      "_________________________________________________________________\n",
      "dense_1 (Dense)              (None, 128)               1179776   \n",
      "_________________________________________________________________\n",
      "dropout_2 (Dropout)          (None, 128)               0         \n",
      "_________________________________________________________________\n",
      "dense_2 (Dense)              (None, 36)                4644      \n",
      "=================================================================\n",
      "Total params: 1,203,236\n",
      "Trainable params: 1,203,236\n",
      "Non-trainable params: 0\n",
      "_________________________________________________________________\n"
     ]
    }
   ],
   "source": [
    "model.summary()"
   ]
  },
  {
   "cell_type": "code",
   "execution_count": 10,
   "metadata": {},
   "outputs": [
    {
     "name": "stdout",
     "output_type": "stream",
     "text": [
      "Train on 278 samples, validate on 250 samples\n",
      "Epoch 1/20\n",
      "278/278 [==============================] - 1s 2ms/step - loss: 3.5954 - accuracy: 0.0540 - val_loss: 3.4107 - val_accuracy: 0.1080\n",
      "Epoch 2/20\n",
      "278/278 [==============================] - 0s 1ms/step - loss: 3.2727 - accuracy: 0.1727 - val_loss: 3.1075 - val_accuracy: 0.2200\n",
      "Epoch 3/20\n",
      "278/278 [==============================] - 0s 991us/step - loss: 2.8804 - accuracy: 0.3094 - val_loss: 2.5174 - val_accuracy: 0.3600\n",
      "Epoch 4/20\n",
      "278/278 [==============================] - 0s 1ms/step - loss: 2.1757 - accuracy: 0.4676 - val_loss: 1.8833 - val_accuracy: 0.5680\n",
      "Epoch 5/20\n",
      "278/278 [==============================] - 0s 1ms/step - loss: 1.5281 - accuracy: 0.6295 - val_loss: 1.3659 - val_accuracy: 0.6360\n",
      "Epoch 6/20\n",
      "278/278 [==============================] - 0s 947us/step - loss: 1.1178 - accuracy: 0.7446 - val_loss: 0.7172 - val_accuracy: 0.8800\n",
      "Epoch 7/20\n",
      "278/278 [==============================] - 0s 974us/step - loss: 0.5893 - accuracy: 0.8525 - val_loss: 0.4290 - val_accuracy: 0.9160\n",
      "Epoch 8/20\n",
      "278/278 [==============================] - 0s 986us/step - loss: 0.3998 - accuracy: 0.9173 - val_loss: 0.3513 - val_accuracy: 0.9280\n",
      "Epoch 9/20\n",
      "278/278 [==============================] - 0s 969us/step - loss: 0.3604 - accuracy: 0.9209 - val_loss: 0.2532 - val_accuracy: 0.9600\n",
      "Epoch 10/20\n",
      "278/278 [==============================] - 0s 983us/step - loss: 0.2600 - accuracy: 0.9568 - val_loss: 0.2074 - val_accuracy: 0.9600\n",
      "Epoch 11/20\n",
      "278/278 [==============================] - 0s 1ms/step - loss: 0.2150 - accuracy: 0.9460 - val_loss: 0.1967 - val_accuracy: 0.9600\n",
      "Epoch 12/20\n",
      "278/278 [==============================] - 0s 981us/step - loss: 0.1810 - accuracy: 0.9640 - val_loss: 0.1601 - val_accuracy: 0.9600\n",
      "Epoch 13/20\n",
      "278/278 [==============================] - 0s 991us/step - loss: 0.1617 - accuracy: 0.9748 - val_loss: 0.1375 - val_accuracy: 0.9880\n",
      "Epoch 14/20\n",
      "278/278 [==============================] - 0s 1ms/step - loss: 0.1388 - accuracy: 0.9712 - val_loss: 0.1321 - val_accuracy: 0.9880\n",
      "Epoch 15/20\n",
      "278/278 [==============================] - 0s 1ms/step - loss: 0.1263 - accuracy: 0.9640 - val_loss: 0.1239 - val_accuracy: 0.9880\n",
      "Epoch 16/20\n",
      "278/278 [==============================] - 0s 991us/step - loss: 0.0964 - accuracy: 0.9856 - val_loss: 0.1400 - val_accuracy: 0.9600\n",
      "Epoch 17/20\n",
      "278/278 [==============================] - 0s 999us/step - loss: 0.1396 - accuracy: 0.9784 - val_loss: 0.1166 - val_accuracy: 0.9880\n",
      "Epoch 18/20\n",
      "278/278 [==============================] - 0s 1ms/step - loss: 0.1367 - accuracy: 0.9640 - val_loss: 0.1175 - val_accuracy: 0.9880\n",
      "Epoch 19/20\n",
      "278/278 [==============================] - 0s 1ms/step - loss: 0.1177 - accuracy: 0.9784 - val_loss: 0.1249 - val_accuracy: 0.9880\n",
      "Epoch 20/20\n",
      "278/278 [==============================] - 0s 1ms/step - loss: 0.0821 - accuracy: 0.9748 - val_loss: 0.1167 - val_accuracy: 0.9880\n"
     ]
    },
    {
     "data": {
      "text/plain": [
       "<keras.callbacks.callbacks.History at 0x13cf55850>"
      ]
     },
     "execution_count": 10,
     "metadata": {},
     "output_type": "execute_result"
    }
   ],
   "source": [
    "model.fit(x_train, y_train,\n",
    "          batch_size=batch_size,\n",
    "          epochs=epochs,\n",
    "          verbose=1,\n",
    "          validation_data=(x_test, y_test))\n"
   ]
  },
  {
   "cell_type": "code",
   "execution_count": 11,
   "metadata": {},
   "outputs": [],
   "source": [
    "score = model.evaluate(x_test, y_test, verbose=0)"
   ]
  },
  {
   "cell_type": "code",
   "execution_count": 12,
   "metadata": {},
   "outputs": [
    {
     "name": "stdout",
     "output_type": "stream",
     "text": [
      "Test loss: 0.11668883182480931\n",
      "Test accuracy: 0.9879999756813049\n"
     ]
    }
   ],
   "source": [
    "print('Test loss:', score[0])\n",
    "print('Test accuracy:', score[1])"
   ]
  },
  {
   "cell_type": "code",
   "execution_count": 13,
   "metadata": {},
   "outputs": [],
   "source": [
    "model.save(\"recognizer.h5\")"
   ]
  }
 ],
 "metadata": {
  "kernelspec": {
   "display_name": "Python 3",
   "language": "python",
   "name": "python3"
  },
  "language_info": {
   "codemirror_mode": {
    "name": "ipython",
    "version": 3
   },
   "file_extension": ".py",
   "mimetype": "text/x-python",
   "name": "python",
   "nbconvert_exporter": "python",
   "pygments_lexer": "ipython3",
   "version": "3.7.4"
  }
 },
 "nbformat": 4,
 "nbformat_minor": 4
}
